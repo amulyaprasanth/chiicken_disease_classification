{
 "cells": [
  {
   "cell_type": "markdown",
   "id": "16eb029ea17baa58",
   "metadata": {
    "collapsed": false
   },
   "source": [
    "# End to End Chicken Disease Classification\n",
    "\n",
    "## Stage 2 : Prepare Base Model"
   ]
  },
  {
   "cell_type": "code",
   "execution_count": 1,
   "id": "c62522dd5295aafa",
   "metadata": {
    "ExecuteTime": {
     "end_time": "2023-10-18T18:22:49.697289900Z",
     "start_time": "2023-10-18T18:22:49.668751Z"
    },
    "collapsed": false
   },
   "outputs": [
    {
     "data": {
      "text/plain": [
       "'d:\\\\Documents\\\\Projects\\\\chiicken_disease_classification\\\\research'"
      ]
     },
     "execution_count": 1,
     "metadata": {},
     "output_type": "execute_result"
    }
   ],
   "source": [
    "%pwd"
   ]
  },
  {
   "cell_type": "code",
   "execution_count": 2,
   "id": "f5a24a4cfedbbcc4",
   "metadata": {
    "ExecuteTime": {
     "end_time": "2023-10-18T18:22:49.746309300Z",
     "start_time": "2023-10-18T18:22:49.699296400Z"
    },
    "collapsed": false
   },
   "outputs": [],
   "source": [
    "import os\n",
    "os.chdir(\"../\")"
   ]
  },
  {
   "cell_type": "code",
   "execution_count": 3,
   "id": "659482d469db0113",
   "metadata": {
    "ExecuteTime": {
     "end_time": "2023-10-18T18:22:49.748290800Z",
     "start_time": "2023-10-18T18:22:49.713300Z"
    },
    "collapsed": false
   },
   "outputs": [
    {
     "data": {
      "text/plain": [
       "'d:\\\\Documents\\\\Projects\\\\chiicken_disease_classification'"
      ]
     },
     "execution_count": 3,
     "metadata": {},
     "output_type": "execute_result"
    }
   ],
   "source": [
    "%pwd"
   ]
  },
  {
   "cell_type": "markdown",
   "id": "ee125114d3d1c5ef",
   "metadata": {
    "collapsed": false
   },
   "source": [
    "### Update entity"
   ]
  },
  {
   "cell_type": "code",
   "execution_count": 4,
   "id": "a31fd9eec0315c6f",
   "metadata": {
    "ExecuteTime": {
     "end_time": "2023-10-18T18:22:49.749324400Z",
     "start_time": "2023-10-18T18:22:49.730288300Z"
    },
    "collapsed": false
   },
   "outputs": [],
   "source": [
    "from dataclasses import dataclass\n",
    "from pathlib import Path\n",
    "\n",
    "\n",
    "@dataclass(frozen=True)\n",
    "class PrepareBaseModelConfig:\n",
    "    root_dir: Path\n",
    "    base_model_path: Path\n",
    "    updated_model_path: Path\n",
    "    params_learning_rate: float\n",
    "    params_image_size: list\n",
    "    params_include_top: bool\n",
    "    params_weights: str\n",
    "    params_classes: int"
   ]
  },
  {
   "cell_type": "markdown",
   "id": "3ad7e290b242dac6",
   "metadata": {
    "collapsed": false
   },
   "source": [
    "### Update configuration manager in src config"
   ]
  },
  {
   "cell_type": "code",
   "execution_count": 5,
   "id": "a77189bf657c03b2",
   "metadata": {
    "ExecuteTime": {
     "end_time": "2023-10-18T18:22:49.996625100Z",
     "start_time": "2023-10-18T18:22:49.745287200Z"
    },
    "collapsed": false
   },
   "outputs": [],
   "source": [
    "from cnnClassifier.constants import *\n",
    "from cnnClassifier.utils.common import read_yaml, create_directories"
   ]
  },
  {
   "cell_type": "code",
   "execution_count": 6,
   "id": "8de53ea112779242",
   "metadata": {
    "ExecuteTime": {
     "end_time": "2023-10-18T18:22:50.485663900Z",
     "start_time": "2023-10-18T18:22:50.002629200Z"
    },
    "collapsed": false
   },
   "outputs": [],
   "source": [
    "class ConfigurationManager:\n",
    "    def __init__(self,\n",
    "                 config_filepath=CONFIG_FILEPATH,\n",
    "                 params_filepath=PARAMS_FILEPATH):\n",
    "        self.config = read_yaml(config_filepath)\n",
    "        self.params = read_yaml(params_filepath)\n",
    "\n",
    "        create_directories([self.config.artifacts_root])\n",
    "\n",
    "    def prepare_base_model_config(self) -> PrepareBaseModelConfig:\n",
    "        config = self.config.prepare_base_model\n",
    "        create_directories([config.root_dir])\n",
    "        prepare_base_model_config = PrepareBaseModelConfig(\n",
    "            root_dir=Path(config.root_dir),\n",
    "            base_model_path=Path(config.base_model_path),\n",
    "            updated_model_path=Path(config.updated_model_path),\n",
    "            params_learning_rate=self.params.LEARNING_RATE,\n",
    "            params_image_size=self.params.IMAGE_SIZE,\n",
    "            params_classes=self.params.CLASSES,\n",
    "            params_weights=self.params.WEIGHTS,\n",
    "            params_include_top=self.params.INCLUDE_TOP\n",
    "        )\n",
    "\n",
    "        return prepare_base_model_config"
   ]
  },
  {
   "cell_type": "markdown",
   "id": "28e0d343-ff71-4e65-aece-a700b848d836",
   "metadata": {
    "ExecuteTime": {
     "start_time": "2023-10-18T18:00:04.243508400Z"
    },
    "collapsed": false
   },
   "source": [
    "### Update the components"
   ]
  },
  {
   "cell_type": "code",
   "execution_count": 7,
   "id": "e8d0186a-3c7e-48ef-b4e9-2bb5317c66f6",
   "metadata": {
    "ExecuteTime": {
     "start_time": "2023-10-18T18:22:50.477671900Z"
    }
   },
   "outputs": [],
   "source": [
    "import tensorflow as tf"
   ]
  },
  {
   "cell_type": "code",
   "execution_count": 8,
   "id": "df8e7256-78a7-413c-8ab3-48bd72fbeba9",
   "metadata": {
    "ExecuteTime": {
     "start_time": "2023-10-18T18:22:50.484666600Z"
    }
   },
   "outputs": [],
   "source": [
    "class PrepareBaseModel:\n",
    "    def __init__(self, config: PrepareBaseModelConfig):\n",
    "        self.config = config\n",
    "\n",
    "    def get_base_model(self):\n",
    "        self.model = tf.keras.applications.vgg16.VGG16(\n",
    "            input_shape=self.config.params_image_size,\n",
    "            weights=self.config.params_weights,\n",
    "            include_top=self.config.params_include_top\n",
    "        )\n",
    "        self.save_model(\n",
    "            path=self.config.base_model_path,\n",
    "            model=self.model\n",
    "        )\n",
    "\n",
    "    @staticmethod\n",
    "    def prepare_full_model(model: tf.keras.Model,\n",
    "                           classes: int,\n",
    "                           freeze_all: bool,\n",
    "                           freeze_till: None,\n",
    "                           learning_rate: float) -> tf.keras.Model:\n",
    "        if freeze_all:\n",
    "            for layer in model.layers:\n",
    "                layer.trainable = False\n",
    "        elif (freeze_till is not None) and (freeze_till > 0):\n",
    "            for layer in model.layers[:-freeze_till]:\n",
    "                model.trainable = False\n",
    "\n",
    "        flatten_in = tf.keras.layers.Flatten()(model.output)\n",
    "        prediction = tf.keras.layers.Dense(\n",
    "            classes, activation=\"softmax\")(flatten_in)\n",
    "\n",
    "        full_model = tf.keras.models.Model(\n",
    "            inputs=model.input,\n",
    "            outputs=prediction\n",
    "        )\n",
    "\n",
    "        full_model.compile(\n",
    "            loss=\"sparse_categorical_crossentropy\",\n",
    "            optimizer=tf.keras.optimizers.SGD(learning_rate=learning_rate),\n",
    "            metrics=[\"accuracy\"]\n",
    "        )\n",
    "\n",
    "        full_model.summary()\n",
    "        return full_model\n",
    "\n",
    "    def update_base_model(self):\n",
    "        self.full_model = self.prepare_full_model(\n",
    "            model=self.model,\n",
    "            classes=self.config.params_classes,\n",
    "            freeze_all=True,\n",
    "            freeze_till=None,\n",
    "            learning_rate=self.config.params_learning_rate\n",
    "        )\n",
    "\n",
    "        self.save_model(\n",
    "            path=self.config.updated_model_path,\n",
    "            model=self.full_model\n",
    "        )\n",
    "\n",
    "    @staticmethod\n",
    "    def save_model(path: Path, model: tf.keras.Model):\n",
    "        model.save(path)"
   ]
  },
  {
   "cell_type": "markdown",
   "id": "b7294af147d1d8f0",
   "metadata": {
    "collapsed": false
   },
   "source": [
    "### Update pipeline"
   ]
  },
  {
   "cell_type": "code",
   "execution_count": 9,
   "id": "60ec82e15ffab117",
   "metadata": {
    "ExecuteTime": {
     "end_time": "2023-10-18T18:22:50.540664800Z",
     "start_time": "2023-10-18T18:22:50.488680800Z"
    },
    "collapsed": false
   },
   "outputs": [
    {
     "name": "stdout",
     "output_type": "stream",
     "text": [
      "[2023-10-19 14:22:27,547:  INFO: common: yaml file: config\\config.yaml loaded]\n",
      "[2023-10-19 14:22:27,554:  INFO: common: yaml file: params.yaml loaded]\n",
      "[2023-10-19 14:22:27,556:  INFO: common: Created directory at artifacts]\n",
      "[2023-10-19 14:22:27,559:  INFO: common: Created directory at artifacts/prepare_base_model]\n",
      "[2023-10-19 14:22:32,111:  WARNING: saving_utils: Compiled the loaded model, but the compiled metrics have yet to be built. `model.compile_metrics` will be empty until you train or evaluate the model.]\n",
      "Model: \"model\"\n",
      "_________________________________________________________________\n",
      " Layer (type)                Output Shape              Param #   \n",
      "=================================================================\n",
      " input_1 (InputLayer)        [(None, 224, 224, 3)]     0         \n",
      "                                                                 \n",
      " block1_conv1 (Conv2D)       (None, 224, 224, 64)      1792      \n",
      "                                                                 \n",
      " block1_conv2 (Conv2D)       (None, 224, 224, 64)      36928     \n",
      "                                                                 \n",
      " block1_pool (MaxPooling2D)  (None, 112, 112, 64)      0         \n",
      "                                                                 \n",
      " block2_conv1 (Conv2D)       (None, 112, 112, 128)     73856     \n",
      "                                                                 \n",
      " block2_conv2 (Conv2D)       (None, 112, 112, 128)     147584    \n",
      "                                                                 \n",
      " block2_pool (MaxPooling2D)  (None, 56, 56, 128)       0         \n",
      "                                                                 \n",
      " block3_conv1 (Conv2D)       (None, 56, 56, 256)       295168    \n",
      "                                                                 \n",
      " block3_conv2 (Conv2D)       (None, 56, 56, 256)       590080    \n",
      "                                                                 \n",
      " block3_conv3 (Conv2D)       (None, 56, 56, 256)       590080    \n",
      "                                                                 \n",
      " block3_pool (MaxPooling2D)  (None, 28, 28, 256)       0         \n",
      "                                                                 \n",
      " block4_conv1 (Conv2D)       (None, 28, 28, 512)       1180160   \n",
      "                                                                 \n",
      " block4_conv2 (Conv2D)       (None, 28, 28, 512)       2359808   \n",
      "                                                                 \n",
      " block4_conv3 (Conv2D)       (None, 28, 28, 512)       2359808   \n",
      "                                                                 \n",
      " block4_pool (MaxPooling2D)  (None, 14, 14, 512)       0         \n",
      "                                                                 \n",
      " block5_conv1 (Conv2D)       (None, 14, 14, 512)       2359808   \n",
      "                                                                 \n",
      " block5_conv2 (Conv2D)       (None, 14, 14, 512)       2359808   \n",
      "                                                                 \n",
      " block5_conv3 (Conv2D)       (None, 14, 14, 512)       2359808   \n",
      "                                                                 \n",
      " block5_pool (MaxPooling2D)  (None, 7, 7, 512)         0         \n",
      "                                                                 \n",
      " flatten (Flatten)           (None, 25088)             0         \n",
      "                                                                 \n",
      " dense (Dense)               (None, 2)                 50178     \n",
      "                                                                 \n",
      "=================================================================\n",
      "Total params: 14,764,866\n",
      "Trainable params: 50,178\n",
      "Non-trainable params: 14,714,688\n",
      "_________________________________________________________________\n"
     ]
    }
   ],
   "source": [
    "try:\n",
    "    config = ConfigurationManager()\n",
    "    prepare_base_model_config = config.prepare_base_model_config()\n",
    "    prepare_base_model = PrepareBaseModel(config=prepare_base_model_config)\n",
    "    prepare_base_model.get_base_model()\n",
    "    prepare_base_model.update_base_model()\n",
    "except Exception as e:\n",
    "    raise e"
   ]
  },
  {
   "cell_type": "code",
   "execution_count": null,
   "id": "f98e67b1-262e-4003-bee4-423f7cd0b720",
   "metadata": {},
   "outputs": [],
   "source": []
  }
 ],
 "metadata": {
  "kernelspec": {
   "display_name": "Python 3 (ipykernel)",
   "language": "python",
   "name": "python3"
  },
  "language_info": {
   "codemirror_mode": {
    "name": "ipython",
    "version": 3
   },
   "file_extension": ".py",
   "mimetype": "text/x-python",
   "name": "python",
   "nbconvert_exporter": "python",
   "pygments_lexer": "ipython3",
   "version": "3.10.0"
  }
 },
 "nbformat": 4,
 "nbformat_minor": 5
}
