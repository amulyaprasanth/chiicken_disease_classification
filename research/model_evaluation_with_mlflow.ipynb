{
 "cells": [
  {
   "cell_type": "markdown",
   "metadata": {},
   "source": [
    "# End to End Chicken Disease Classification\n",
    "\n",
    "## Stage 4: Model Evaluation with mlflow"
   ]
  },
  {
   "cell_type": "code",
   "execution_count": 1,
   "metadata": {},
   "outputs": [
    {
     "data": {
      "text/plain": [
       "'d:\\\\Documents\\\\Projects\\\\chiicken_disease_classification\\\\research'"
      ]
     },
     "execution_count": 1,
     "metadata": {},
     "output_type": "execute_result"
    }
   ],
   "source": [
    "%pwd"
   ]
  },
  {
   "cell_type": "code",
   "execution_count": 2,
   "metadata": {},
   "outputs": [],
   "source": [
    "import os\n",
    "os.chdir(\"../\")"
   ]
  },
  {
   "cell_type": "code",
   "execution_count": 3,
   "metadata": {},
   "outputs": [
    {
     "data": {
      "text/plain": [
       "'d:\\\\Documents\\\\Projects\\\\chiicken_disease_classification'"
      ]
     },
     "execution_count": 3,
     "metadata": {},
     "output_type": "execute_result"
    }
   ],
   "source": [
    "%pwd"
   ]
  },
  {
   "cell_type": "markdown",
   "metadata": {},
   "source": [
    "### Collect mlflow url "
   ]
  },
  {
   "cell_type": "markdown",
   "metadata": {},
   "source": [
    "MLFLOW_TRACKING_URI=https://dagshub.com/amulyaprasanth/chiicken_disease_classification.mlflow \\\n",
    "MLFLOW_TRACKING_USERNAME=amulyaprasanth \\\n",
    "MLFLOW_TRACKING_PASSWORD=d6817a3e2dd02437d35d18934f5ec3e3d99cfd35 \\\n",
    "python script.py"
   ]
  },
  {
   "cell_type": "markdown",
   "metadata": {},
   "source": [
    "### Update entity\n"
   ]
  },
  {
   "cell_type": "code",
   "execution_count": 4,
   "metadata": {},
   "outputs": [],
   "source": [
    "from dataclasses import dataclass\n",
    "from pathlib import Path\n",
    "\n",
    "\n",
    "@dataclass(frozen=True)\n",
    "class EvaluationConfig:\n",
    "    trained_model_path: Path\n",
    "    training_data: Path\n",
    "    all_params: dict\n",
    "    mlflow_url: str\n",
    "    params_batch_size: int\n",
    "    params_image_size: list"
   ]
  },
  {
   "cell_type": "markdown",
   "metadata": {},
   "source": [
    "### Update configuration manager in src config "
   ]
  },
  {
   "cell_type": "code",
   "execution_count": 5,
   "metadata": {},
   "outputs": [],
   "source": [
    "from cnnClassifier.constants import *\n",
    "from cnnClassifier.utils.common import read_yaml, create_directories, save_json\n",
    "\n",
    "\n",
    "class ConfigurationManager:\n",
    "    def __init__(self,\n",
    "                 config_filepath=CONFIG_FILEPATH,\n",
    "                 params_filepath=PARAMS_FILEPATH):\n",
    "        self.config = read_yaml(config_filepath)\n",
    "        self.params = read_yaml(params_filepath)\n",
    "\n",
    "        create_directories([self.config.artifacts_root])\n",
    "\n",
    "    def get_evaluation_config(self) -> EvaluationConfig:\n",
    "        evaluation_config = EvaluationConfig(\n",
    "            trained_model_path=Path(self.config.training.trained_model_path),\n",
    "            training_data=os.path.join(\n",
    "                self.config.data_ingestion.unzip_dir, \"Chicken-fecal-images\"),\n",
    "            mlflow_url=\"https://dagshub.com/amulyaprasanth/chiicken_disease_classification.mlflow \",\n",
    "            all_params=self.params,\n",
    "            params_image_size=self.params.IMAGE_SIZE,\n",
    "            params_batch_size=self.params.BATCH_SIZE\n",
    "        )\n",
    "        return evaluation_config"
   ]
  },
  {
   "cell_type": "markdown",
   "metadata": {},
   "source": [
    "### Update components"
   ]
  },
  {
   "cell_type": "code",
   "execution_count": 6,
   "metadata": {},
   "outputs": [],
   "source": [
    "import shutil\n",
    "import tensorflow as tf\n",
    "from pathlib import Path\n",
    "import mlflow\n",
    "import mlflow.keras\n",
    "from urllib.parse import urlparse\n",
    "\n",
    "\n",
    "class Evaluation:\n",
    "    def __init__(self, config: EvaluationConfig):\n",
    "        self.config = config\n",
    "\n",
    "    def prepare_val_data(self):\n",
    "        val_ds = tf.keras.utils.image_dataset_from_directory(\n",
    "            directory=self.config.training_data,\n",
    "            validation_split=0.2,\n",
    "            subset=\"validation\",\n",
    "            seed=42,\n",
    "            batch_size=self.config.params_batch_size,\n",
    "            image_size=(self.config.params_image_size[0], self.config.params_image_size[1]))\n",
    "\n",
    "        self.val_ds = val_ds.prefetch(tf.data.AUTOTUNE)\n",
    "\n",
    "    def evaluate(self):\n",
    "        self.model = self.load_model(self.config.trained_model_path)\n",
    "        self.prepare_val_data()\n",
    "        self.score = self.model.evaluate(self.val_ds)\n",
    "        self.save_score()\n",
    "\n",
    "    def log_into_mlflow(self):\n",
    "        mlflow.set_registry_uri(self.config.mlflow_url)\n",
    "        tracking_url_type_store = urlparse(mlflow.get_tracking_uri()).scheme\n",
    "\n",
    "        with mlflow.start_run():\n",
    "            mlflow.log_params(self.config.all_params)\n",
    "            mlflow.log_metrics(\n",
    "                {\"loss\": self.score[0], \"accuracy\": self.score[1]}\n",
    "            )\n",
    "\n",
    "            if tracking_url_type_store != \"file\":\n",
    "                mlflow.keras.log_model(self.model,\n",
    "                                       \"model\",\n",
    "                                       registered_model_name=\"VGG16Model\")\n",
    "\n",
    "            else:\n",
    "                mlflow.keras.log_model(self.model, \"model\")\n",
    "    def copy_model_for_deployment(self):\n",
    "        '''\n",
    "        This function copies the trained model file to  model folder to be used for deployment\n",
    "        '''\n",
    "        os.makedirs(\"./models\", exist_ok=True)\n",
    "        shutil.copy(\n",
    "            src = self.config.trained_model_path,\n",
    "            dst = Path(\"./models\"))\n",
    "        \n",
    "    def save_score(self):\n",
    "        scores = {\"loss\": self.score[0], \"accuracy\": self.score[1]}\n",
    "        save_json(path=Path(\"scores.json\"), data=scores)\n",
    "\n",
    "    @staticmethod\n",
    "    def load_model(path: Path) -> tf.keras.Model:\n",
    "        return tf.keras.models.load_model(path)"
   ]
  },
  {
   "cell_type": "markdown",
   "metadata": {},
   "source": [
    "### Update pipeline"
   ]
  },
  {
   "cell_type": "code",
   "execution_count": 7,
   "metadata": {},
   "outputs": [
    {
     "name": "stdout",
     "output_type": "stream",
     "text": [
      "[2023-10-19 22:28:16,427:  INFO: common: yaml file: config\\config.yaml loaded]\n",
      "[2023-10-19 22:28:16,430:  INFO: common: yaml file: params.yaml loaded]\n",
      "[2023-10-19 22:28:16,431:  INFO: common: Created directory at artifacts]\n",
      "Found 390 files belonging to 2 classes.\n",
      "Using 78 files for validation.\n",
      "5/5 [==============================] - 9s 659ms/step - loss: 0.4801 - accuracy: 0.4872\n",
      "[2023-10-19 22:28:27,272:  INFO: common: json saved at scores.json]\n"
     ]
    },
    {
     "name": "stderr",
     "output_type": "stream",
     "text": [
      "2023/10/19 22:28:27 WARNING mlflow.tensorflow: You are saving a TensorFlow Core model or Keras model without a signature. Inference with mlflow.pyfunc.spark_udf() will not work unless the model's pyfunc representation accepts pandas DataFrames as inference inputs.\n"
     ]
    },
    {
     "name": "stdout",
     "output_type": "stream",
     "text": [
      "[2023-10-19 22:28:29,134:  WARNING: save: Found untraced functions such as _jit_compiled_convolution_op, _jit_compiled_convolution_op, _jit_compiled_convolution_op, _jit_compiled_convolution_op, _jit_compiled_convolution_op while saving (showing 5 of 13). These functions will not be directly callable after loading.]\n",
      "[2023-10-19 22:28:30,091:  INFO: builder_impl: Assets written to: C:\\Users\\amuly\\AppData\\Local\\Temp\\tmptx2lnwva\\model\\data\\model\\assets]\n",
      "[2023-10-19 22:28:40,827:  INFO: dir_util: creating D:\\Documents\\Projects\\chiicken_disease_classification\\mlruns\\0\\c9b71c56abe14b83bb8473f7fa63bd68\\artifacts\\model\\data]\n",
      "[2023-10-19 22:28:40,830:  INFO: dir_util: creating D:\\Documents\\Projects\\chiicken_disease_classification\\mlruns\\0\\c9b71c56abe14b83bb8473f7fa63bd68\\artifacts\\model\\data\\model]\n",
      "[2023-10-19 22:28:40,832:  INFO: dir_util: creating D:\\Documents\\Projects\\chiicken_disease_classification\\mlruns\\0\\c9b71c56abe14b83bb8473f7fa63bd68\\artifacts\\model\\data\\model\\assets]\n",
      "[2023-10-19 22:28:40,836:  INFO: dir_util: creating D:\\Documents\\Projects\\chiicken_disease_classification\\mlruns\\0\\c9b71c56abe14b83bb8473f7fa63bd68\\artifacts\\model\\data\\model\\variables]\n"
     ]
    },
    {
     "name": "stderr",
     "output_type": "stream",
     "text": [
      "d:\\Documents\\Projects\\chiicken_disease_classification\\venv\\lib\\site-packages\\_distutils_hack\\__init__.py:33: UserWarning: Setuptools is replacing distutils.\n",
      "  warnings.warn(\"Setuptools is replacing distutils.\")\n"
     ]
    }
   ],
   "source": [
    "try:\n",
    "    config = ConfigurationManager()\n",
    "    evaluation_config = config.get_evaluation_config()\n",
    "    evaluation = Evaluation(config=evaluation_config)\n",
    "    evaluation.evaluate()\n",
    "    evaluation.copy_model_for_deployment()\n",
    "    evaluation.log_into_mlflow()\n",
    "except Exception as e:\n",
    "    raise e"
   ]
  },
  {
   "cell_type": "code",
   "execution_count": null,
   "metadata": {},
   "outputs": [],
   "source": []
  }
 ],
 "metadata": {
  "kernelspec": {
   "display_name": "Python 3",
   "language": "python",
   "name": "python3"
  },
  "language_info": {
   "codemirror_mode": {
    "name": "ipython",
    "version": 3
   },
   "file_extension": ".py",
   "mimetype": "text/x-python",
   "name": "python",
   "nbconvert_exporter": "python",
   "pygments_lexer": "ipython3",
   "version": "3.10.0"
  },
  "orig_nbformat": 4
 },
 "nbformat": 4,
 "nbformat_minor": 2
}
