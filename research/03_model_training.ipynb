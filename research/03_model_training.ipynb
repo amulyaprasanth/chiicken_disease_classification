{
 "cells": [
  {
   "cell_type": "markdown",
   "id": "f1ea5b618c203ac3",
   "metadata": {
    "collapsed": false
   },
   "source": [
    "# End to End Chicken Disease Classification Project\n",
    "\n",
    "## Stage 3 : Model Training"
   ]
  },
  {
   "cell_type": "code",
   "execution_count": 1,
   "id": "1fb89b1d9c76515",
   "metadata": {
    "ExecuteTime": {
     "end_time": "2023-10-19T04:21:57.393058700Z",
     "start_time": "2023-10-19T04:21:57.372986100Z"
    },
    "collapsed": false
   },
   "outputs": [
    {
     "data": {
      "text/plain": [
       "'d:\\\\Documents\\\\Projects\\\\chiicken_disease_classification\\\\research'"
      ]
     },
     "execution_count": 1,
     "metadata": {},
     "output_type": "execute_result"
    }
   ],
   "source": [
    "%pwd"
   ]
  },
  {
   "cell_type": "code",
   "execution_count": 2,
   "id": "4c11339e7ef62bf",
   "metadata": {
    "ExecuteTime": {
     "end_time": "2023-10-19T04:22:02.585689Z",
     "start_time": "2023-10-19T04:22:02.560372700Z"
    },
    "collapsed": false
   },
   "outputs": [],
   "source": [
    "import os\n",
    "os.chdir(\"../\")"
   ]
  },
  {
   "cell_type": "code",
   "execution_count": 3,
   "id": "6f2e6aaa1cb5e345",
   "metadata": {
    "ExecuteTime": {
     "end_time": "2023-10-19T04:22:04.805422100Z",
     "start_time": "2023-10-19T04:22:04.765033200Z"
    },
    "collapsed": false
   },
   "outputs": [
    {
     "data": {
      "text/plain": [
       "'d:\\\\Documents\\\\Projects\\\\chiicken_disease_classification'"
      ]
     },
     "execution_count": 3,
     "metadata": {},
     "output_type": "execute_result"
    }
   ],
   "source": [
    "%pwd"
   ]
  },
  {
   "cell_type": "markdown",
   "id": "dde9a9991fd63ba5",
   "metadata": {
    "collapsed": false
   },
   "source": [
    "### Update entity"
   ]
  },
  {
   "cell_type": "code",
   "execution_count": 4,
   "id": "b4344d2bade15707",
   "metadata": {
    "ExecuteTime": {
     "end_time": "2023-10-19T04:26:33.606745600Z",
     "start_time": "2023-10-19T04:26:33.595228800Z"
    },
    "collapsed": false
   },
   "outputs": [],
   "source": [
    "from dataclasses import dataclass\n",
    "from pathlib import Path\n",
    "\n",
    "\n",
    "@dataclass(frozen=True)\n",
    "class TrainingConfig:\n",
    "    root_dir: Path\n",
    "    trained_model_path: Path\n",
    "    updated_model_path: Path\n",
    "    training_data: Path\n",
    "    params_epochs: int\n",
    "    params_batch_size: int\n",
    "    params_is_augmentation: bool\n",
    "    params_image_size: list"
   ]
  },
  {
   "cell_type": "markdown",
   "id": "2b2169ca2b4442a3",
   "metadata": {
    "collapsed": false
   },
   "source": [
    "### Update configuration manager in src config"
   ]
  },
  {
   "cell_type": "code",
   "execution_count": 5,
   "id": "5c5041acea40047",
   "metadata": {
    "ExecuteTime": {
     "end_time": "2023-10-19T04:42:22.813790900Z",
     "start_time": "2023-10-19T04:42:22.362979900Z"
    },
    "collapsed": false
   },
   "outputs": [],
   "source": [
    "from cnnClassifier.constants import *\n",
    "from cnnClassifier.utils.common import read_yaml, create_directories\n",
    "\n",
    "\n",
    "class ConfigurationManager:\n",
    "    def __init__(self,\n",
    "                 config_filepath=CONFIG_FILEPATH,\n",
    "                 params_filepath=PARAMS_FILEPATH):\n",
    "        self.config = read_yaml(config_filepath)\n",
    "        self.params = read_yaml(params_filepath)\n",
    "\n",
    "        create_directories([self.config.artifacts_root])\n",
    "\n",
    "    def get_training_config(self) -> TrainingConfig:\n",
    "        training = self.config.training\n",
    "        prepare_base_model = self.config.prepare_base_model\n",
    "        params = self.params\n",
    "\n",
    "        training_data = os.path.join(\n",
    "            self.config.data_ingestion.unzip_dir,\n",
    "            \"Chicken-fecal-images\"\n",
    "        )\n",
    "\n",
    "        training_config = TrainingConfig(\n",
    "            root_dir=Path(training.root_dir),\n",
    "            trained_model_path=Path(training.trained_model_path), updated_model_path=Path(prepare_base_model.updated_model_path),\n",
    "            training_data=training_data,\n",
    "            params_epochs=params.EPOCHS,\n",
    "            params_batch_size=params.BATCH_SIZE,\n",
    "            params_image_size=params.IMAGE_SIZE,\n",
    "            params_is_augmentation=params.AUGMENTATION\n",
    "        )\n",
    "\n",
    "        return training_config"
   ]
  },
  {
   "cell_type": "markdown",
   "id": "5efd205d937daeb7",
   "metadata": {
    "collapsed": false
   },
   "source": [
    "### Update components"
   ]
  },
  {
   "cell_type": "code",
   "execution_count": 6,
   "id": "ffcca5874b5a6e4c",
   "metadata": {
    "collapsed": false
   },
   "outputs": [],
   "source": [
    "import tensorflow as tf\n",
    "\n",
    "\n",
    "class Training:\n",
    "    def __init__(self, config: TrainingConfig):\n",
    "        self.config = config\n",
    "\n",
    "    def get_base_model(self):\n",
    "        self.model = tf.keras.models.load_model(\n",
    "            self.config.updated_model_path\n",
    "        )\n",
    "\n",
    "    def prepare_data_for_training(self):\n",
    "        train_ds = tf.keras.utils.image_dataset_from_directory(\n",
    "            directory=self.config.training_data,\n",
    "            validation_split=0.2,\n",
    "            subset=\"training\",\n",
    "            seed=42,\n",
    "            batch_size=self.config.params_batch_size,\n",
    "            image_size=(\n",
    "                self.config.params_image_size[0], self.config.params_image_size[1])\n",
    "        )\n",
    "\n",
    "        val_ds = tf.keras.utils.image_dataset_from_directory(\n",
    "            directory=self.config.training_data,\n",
    "            validation_split=0.2,\n",
    "            subset=\"validation\",\n",
    "            seed=42,\n",
    "            batch_size=self.config.params_batch_size,\n",
    "            image_size=(self.config.params_image_size[0], self.config.params_image_size[1]))\n",
    "        \n",
    "        if self.config.params_is_augmentation:\n",
    "            train_aug = tf.keras.Sequential([\n",
    "                        tf.keras.layers.Rescaling(scale=1.0 / 255),\n",
    "                        tf.keras.layers.RandomFlip(\"horizontal_and_vertical\"),\n",
    "                        tf.keras.layers.RandomZoom(\n",
    "                            height_factor=(-0.05, -0.15),\n",
    "                            width_factor=(-0.05, -0.15)),\n",
    "                        tf.keras.layers.RandomRotation(0.3)\n",
    "                        ])\n",
    "            \n",
    "            test_aug = tf.keras.Sequential([\n",
    "\t                    tf.keras.layers.Rescaling(scale=1.0 / 255)\n",
    "                        ])\n",
    "            \n",
    "            self.train_ds = train_ds.map(lambda x, y: (train_aug(x), y),\n",
    "\t\t num_parallel_calls=tf.data.AUTOTUNE).prefetch(tf.data.AUTOTUNE)\n",
    "            self.val_ds = val_ds.map(lambda x, y: (test_aug(x), y),\n",
    "\t\tnum_parallel_calls=tf.data.AUTOTUNE).prefetch(tf.data.AUTOTUNE)\n",
    "            \n",
    "\n",
    "        else:\n",
    "            self.train_ds = train_ds.prefetch(tf.data.AUTOTUNE)\n",
    "            self.val_ds = val_ds.prefetch(tf.data.AUTOTUNE)\n",
    "\n",
    "    def train(self):\n",
    "        self.model.fit(\n",
    "            self.train_ds,\n",
    "            epochs=self.config.params_epochs,\n",
    "            validation_data=self.val_ds,\n",
    "        )\n",
    "\n",
    "        self.save_model(\n",
    "            path=self.config.trained_model_path,\n",
    "            model=self.model\n",
    "        )\n",
    "\n",
    "    @staticmethod\n",
    "    def save_model(path: Path, model: tf.keras.Model):\n",
    "        model.save(path)"
   ]
  },
  {
   "cell_type": "markdown",
   "id": "980508dc",
   "metadata": {},
   "source": [
    "### Update pipeline"
   ]
  },
  {
   "cell_type": "code",
   "execution_count": 7,
   "id": "1650086e",
   "metadata": {},
   "outputs": [
    {
     "name": "stdout",
     "output_type": "stream",
     "text": [
      "[2023-10-19 16:06:27,664:  INFO: common: yaml file: config\\config.yaml loaded]\n",
      "[2023-10-19 16:06:27,672:  INFO: common: yaml file: params.yaml loaded]\n",
      "[2023-10-19 16:06:27,676:  INFO: common: Created directory at artifacts]\n",
      "Found 390 files belonging to 2 classes.\n",
      "Using 312 files for training.\n",
      "Found 390 files belonging to 2 classes.\n",
      "Using 78 files for validation.\n",
      "20/20 [==============================] - 24s 324ms/step - loss: 77.5475 - accuracy: 0.5256 - val_loss: 1.4018 - val_accuracy: 0.5128\n"
     ]
    }
   ],
   "source": [
    "try:\n",
    "    config = ConfigurationManager()\n",
    "    training_config = config.get_training_config()\n",
    "    training = Training(config=training_config)\n",
    "    training.get_base_model()\n",
    "    training.prepare_data_for_training()\n",
    "    training.train()\n",
    "except Exception as e:\n",
    "    raise e"
   ]
  },
  {
   "cell_type": "code",
   "execution_count": null,
   "id": "b13dba64",
   "metadata": {},
   "outputs": [],
   "source": []
  }
 ],
 "metadata": {
  "kernelspec": {
   "display_name": "Python 3",
   "language": "python",
   "name": "python3"
  },
  "language_info": {
   "codemirror_mode": {
    "name": "ipython",
    "version": 3
   },
   "file_extension": ".py",
   "mimetype": "text/x-python",
   "name": "python",
   "nbconvert_exporter": "python",
   "pygments_lexer": "ipython3",
   "version": "3.10.0"
  }
 },
 "nbformat": 4,
 "nbformat_minor": 5
}
