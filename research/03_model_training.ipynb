{
 "cells": [
  {
   "cell_type": "markdown",
   "source": [
    "# End to End Chicken Disease Classification Project\n",
    "\n",
    "## Stage 3 : Model Training"
   ],
   "metadata": {
    "collapsed": false
   },
   "id": "f1ea5b618c203ac3"
  },
  {
   "cell_type": "code",
   "execution_count": 1,
   "outputs": [
    {
     "data": {
      "text/plain": "'D:\\\\Documents\\\\Projects\\\\chiicken_disease_classification\\\\research'"
     },
     "execution_count": 1,
     "metadata": {},
     "output_type": "execute_result"
    }
   ],
   "source": [
    "%pwd"
   ],
   "metadata": {
    "collapsed": false,
    "ExecuteTime": {
     "end_time": "2023-10-19T04:21:57.393058700Z",
     "start_time": "2023-10-19T04:21:57.372986100Z"
    }
   },
   "id": "1fb89b1d9c76515"
  },
  {
   "cell_type": "code",
   "execution_count": 2,
   "outputs": [],
   "source": [
    "import os\n",
    "os.chdir(\"../\")"
   ],
   "metadata": {
    "collapsed": false,
    "ExecuteTime": {
     "end_time": "2023-10-19T04:22:02.585689Z",
     "start_time": "2023-10-19T04:22:02.560372700Z"
    }
   },
   "id": "4c11339e7ef62bf"
  },
  {
   "cell_type": "code",
   "execution_count": 3,
   "outputs": [
    {
     "data": {
      "text/plain": "'D:\\\\Documents\\\\Projects\\\\chiicken_disease_classification'"
     },
     "execution_count": 3,
     "metadata": {},
     "output_type": "execute_result"
    }
   ],
   "source": [
    "%pwd"
   ],
   "metadata": {
    "collapsed": false,
    "ExecuteTime": {
     "end_time": "2023-10-19T04:22:04.805422100Z",
     "start_time": "2023-10-19T04:22:04.765033200Z"
    }
   },
   "id": "6f2e6aaa1cb5e345"
  },
  {
   "cell_type": "markdown",
   "source": [
    "### Update entity"
   ],
   "metadata": {
    "collapsed": false
   },
   "id": "dde9a9991fd63ba5"
  },
  {
   "cell_type": "code",
   "execution_count": 4,
   "outputs": [],
   "source": [
    "from dataclasses import dataclass\n",
    "from pathlib import Path\n",
    "\n",
    "@dataclass(frozen=True)\n",
    "class TrainingConfig:\n",
    "    root_dir: Path\n",
    "    trained_model_path: Path\n",
    "    updated_model_path: Path\n",
    "    training_data : Path\n",
    "    params_epochs: int\n",
    "    params_batch_size : int\n",
    "    params_is_augmentation: bool\n",
    "    params_image_size: list"
   ],
   "metadata": {
    "collapsed": false,
    "ExecuteTime": {
     "end_time": "2023-10-19T04:26:33.606745600Z",
     "start_time": "2023-10-19T04:26:33.595228800Z"
    }
   },
   "id": "b4344d2bade15707"
  },
  {
   "cell_type": "markdown",
   "source": [
    "### Update configuration manager in src config"
   ],
   "metadata": {
    "collapsed": false
   },
   "id": "2b2169ca2b4442a3"
  },
  {
   "cell_type": "code",
   "execution_count": 6,
   "outputs": [
    {
     "ename": "NameError",
     "evalue": "name 'CONFIG_FILEPATH' is not defined",
     "output_type": "error",
     "traceback": [
      "\u001B[1;31m---------------------------------------------------------------------------\u001B[0m",
      "\u001B[1;31mNameError\u001B[0m                                 Traceback (most recent call last)",
      "Cell \u001B[1;32mIn[6], line 4\u001B[0m\n\u001B[0;32m      1\u001B[0m \u001B[38;5;28;01mfrom\u001B[39;00m \u001B[38;5;21;01mcnnClassifier\u001B[39;00m\u001B[38;5;21;01m.\u001B[39;00m\u001B[38;5;21;01mconstants\u001B[39;00m \u001B[38;5;28;01mimport\u001B[39;00m \u001B[38;5;241m*\u001B[39m\n\u001B[0;32m      2\u001B[0m \u001B[38;5;28;01mfrom\u001B[39;00m \u001B[38;5;21;01mcnnClassifier\u001B[39;00m\u001B[38;5;21;01m.\u001B[39;00m\u001B[38;5;21;01mutils\u001B[39;00m\u001B[38;5;21;01m.\u001B[39;00m\u001B[38;5;21;01mcommon\u001B[39;00m \u001B[38;5;28;01mimport\u001B[39;00m read_yaml, create_directories\n\u001B[1;32m----> 4\u001B[0m \u001B[38;5;28;01mclass\u001B[39;00m \u001B[38;5;21;01mConfigurationManager\u001B[39;00m:\n\u001B[0;32m      5\u001B[0m     \u001B[38;5;28;01mdef\u001B[39;00m \u001B[38;5;21m__init__\u001B[39m(\u001B[38;5;28mself\u001B[39m,\n\u001B[0;32m      6\u001B[0m                  config_filepath \u001B[38;5;241m=\u001B[39m CONFIG_FILEPATH,\n\u001B[0;32m      7\u001B[0m                  params_filepath \u001B[38;5;241m=\u001B[39m PARAMS_FILEPATH):\n\u001B[0;32m      8\u001B[0m         \u001B[38;5;28mself\u001B[39m\u001B[38;5;241m.\u001B[39mconfig \u001B[38;5;241m=\u001B[39m read_yaml(config_filepath)\n",
      "Cell \u001B[1;32mIn[6], line 6\u001B[0m, in \u001B[0;36mConfigurationManager\u001B[1;34m()\u001B[0m\n\u001B[0;32m      4\u001B[0m \u001B[38;5;28;01mclass\u001B[39;00m \u001B[38;5;21;01mConfigurationManager\u001B[39;00m:\n\u001B[0;32m      5\u001B[0m     \u001B[38;5;28;01mdef\u001B[39;00m \u001B[38;5;21m__init__\u001B[39m(\u001B[38;5;28mself\u001B[39m,\n\u001B[1;32m----> 6\u001B[0m                  config_filepath \u001B[38;5;241m=\u001B[39m \u001B[43mCONFIG_FILEPATH\u001B[49m,\n\u001B[0;32m      7\u001B[0m                  params_filepath \u001B[38;5;241m=\u001B[39m PARAMS_FILEPATH):\n\u001B[0;32m      8\u001B[0m         \u001B[38;5;28mself\u001B[39m\u001B[38;5;241m.\u001B[39mconfig \u001B[38;5;241m=\u001B[39m read_yaml(config_filepath)\n\u001B[0;32m      9\u001B[0m         \u001B[38;5;28mself\u001B[39m\u001B[38;5;241m.\u001B[39mparams \u001B[38;5;241m=\u001B[39m read_yaml(params_filepath)\n",
      "\u001B[1;31mNameError\u001B[0m: name 'CONFIG_FILEPATH' is not defined"
     ]
    }
   ],
   "source": [
    "from cnnClassifier.constants import *\n",
    "from cnnClassifier.utils.common import read_yaml, create_directories\n",
    "\n",
    "class ConfigurationManager:\n",
    "    def __init__(self,\n",
    "                 config_filepath = CONFIG_FILEPATH,\n",
    "                 params_filepath = PARAMS_FILEPATH):\n",
    "        self.config = read_yaml(config_filepath)\n",
    "        self.params = read_yaml(params_filepath)\n",
    "        \n",
    "        create_directories([self.config.artifacts_root])\n",
    "        \n",
    "    def get_training_config(self) -> TrainingConfig:\n",
    "        training = self.config.training\n",
    "        prepare_base_model = self.config.prepare_base_model\n",
    "        params = self.params\n",
    "        \n",
    "        training_data = os.path.join(\n",
    "            self.config.data_ingestion.unzip_dir,\n",
    "            \"Chicken-fecal-images\"\n",
    "        )\n",
    "        \n",
    "        training_config = TrainingConfig(\n",
    "            root_dir = Path(training.root_dir),\n",
    "            trained_model_path = Path(training.trained_model_path),updated_model_path = Path(prepare_base_model.updated_model_path),\n",
    "            training_data = training_data,\n",
    "            params_epochs = params.EPOCHS,\n",
    "            params_batch_size = params.BATCH_SIZE,\n",
    "            params_image_size = params.IMAGE_SIZE,\n",
    "            params_is_augmentation = params.AUGMENTATION\n",
    "        )\n",
    "        \n",
    "        return training_config\n",
    "        "
   ],
   "metadata": {
    "collapsed": false,
    "ExecuteTime": {
     "end_time": "2023-10-19T04:42:22.813790900Z",
     "start_time": "2023-10-19T04:42:22.362979900Z"
    }
   },
   "id": "5c5041acea40047"
  },
  {
   "cell_type": "markdown",
   "source": [
    "### Update components"
   ],
   "metadata": {
    "collapsed": false
   },
   "id": "5efd205d937daeb7"
  },
  {
   "cell_type": "code",
   "execution_count": null,
   "outputs": [],
   "source": [
    "import tensorflow as tf\n",
    "\n",
    "class Training:\n",
    "    def __init__(self, config: TrainingConfig):\n",
    "        self.config = config\n",
    "        \n",
    "    def get_base_model(self):\n",
    "        self.model = tf.keras.models.load_model(\n",
    "            self.config.updated_model_path\n",
    "        )\n",
    "        \n",
    "    "
   ],
   "metadata": {
    "collapsed": false
   },
   "id": "ffcca5874b5a6e4c"
  }
 ],
 "metadata": {
  "kernelspec": {
   "display_name": "Python 3",
   "language": "python",
   "name": "python3"
  },
  "language_info": {
   "codemirror_mode": {
    "name": "ipython",
    "version": 2
   },
   "file_extension": ".py",
   "mimetype": "text/x-python",
   "name": "python",
   "nbconvert_exporter": "python",
   "pygments_lexer": "ipython2",
   "version": "2.7.6"
  }
 },
 "nbformat": 4,
 "nbformat_minor": 5
}
