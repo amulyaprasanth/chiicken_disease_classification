{
 "cells": [
  {
   "cell_type": "markdown",
   "id": "f1ea5b618c203ac3",
   "metadata": {
    "collapsed": false
   },
   "source": [
    "# End to End Chicken Disease Classification Project\n",
    "\n",
    "## Stage 3 : Model Training"
   ]
  },
  {
   "cell_type": "code",
   "execution_count": 1,
   "id": "1fb89b1d9c76515",
   "metadata": {
    "ExecuteTime": {
     "end_time": "2023-10-19T04:21:57.393058700Z",
     "start_time": "2023-10-19T04:21:57.372986100Z"
    },
    "collapsed": false
   },
   "outputs": [
    {
     "data": {
      "text/plain": [
       "'d:\\\\Documents\\\\Projects\\\\chiicken_disease_classification\\\\research'"
      ]
     },
     "execution_count": 1,
     "metadata": {},
     "output_type": "execute_result"
    }
   ],
   "source": [
    "%pwd"
   ]
  },
  {
   "cell_type": "code",
   "execution_count": 2,
   "id": "4c11339e7ef62bf",
   "metadata": {
    "ExecuteTime": {
     "end_time": "2023-10-19T04:22:02.585689Z",
     "start_time": "2023-10-19T04:22:02.560372700Z"
    },
    "collapsed": false
   },
   "outputs": [],
   "source": [
    "import os\n",
    "os.chdir(\"../\")"
   ]
  },
  {
   "cell_type": "code",
   "execution_count": 3,
   "id": "6f2e6aaa1cb5e345",
   "metadata": {
    "ExecuteTime": {
     "end_time": "2023-10-19T04:22:04.805422100Z",
     "start_time": "2023-10-19T04:22:04.765033200Z"
    },
    "collapsed": false
   },
   "outputs": [
    {
     "data": {
      "text/plain": [
       "'d:\\\\Documents\\\\Projects\\\\chiicken_disease_classification'"
      ]
     },
     "execution_count": 3,
     "metadata": {},
     "output_type": "execute_result"
    }
   ],
   "source": [
    "%pwd"
   ]
  },
  {
   "cell_type": "markdown",
   "id": "dde9a9991fd63ba5",
   "metadata": {
    "collapsed": false
   },
   "source": [
    "### Update entity"
   ]
  },
  {
   "cell_type": "code",
   "execution_count": 4,
   "id": "b4344d2bade15707",
   "metadata": {
    "ExecuteTime": {
     "end_time": "2023-10-19T04:26:33.606745600Z",
     "start_time": "2023-10-19T04:26:33.595228800Z"
    },
    "collapsed": false
   },
   "outputs": [],
   "source": [
    "from dataclasses import dataclass\n",
    "from pathlib import Path\n",
    "\n",
    "\n",
    "@dataclass(frozen=True)\n",
    "class TrainingConfig:\n",
    "    root_dir: Path\n",
    "    trained_model_path: Path\n",
    "    updated_model_path: Path\n",
    "    training_data: Path\n",
    "    params_epochs: int\n",
    "    params_batch_size: int\n",
    "    params_is_augmentation: bool\n",
    "    params_image_size: list"
   ]
  },
  {
   "cell_type": "markdown",
   "id": "2b2169ca2b4442a3",
   "metadata": {
    "collapsed": false
   },
   "source": [
    "### Update configuration manager in src config"
   ]
  },
  {
   "cell_type": "code",
   "execution_count": 5,
   "id": "5c5041acea40047",
   "metadata": {
    "ExecuteTime": {
     "end_time": "2023-10-19T04:42:22.813790900Z",
     "start_time": "2023-10-19T04:42:22.362979900Z"
    },
    "collapsed": false
   },
   "outputs": [],
   "source": [
    "from cnnClassifier.constants import *\n",
    "from cnnClassifier.utils.common import read_yaml, create_directories\n",
    "\n",
    "\n",
    "class ConfigurationManager:\n",
    "    def __init__(self,\n",
    "                 config_filepath=CONFIG_FILEPATH,\n",
    "                 params_filepath=PARAMS_FILEPATH):\n",
    "        self.config = read_yaml(config_filepath)\n",
    "        self.params = read_yaml(params_filepath)\n",
    "\n",
    "        create_directories([self.config.artifacts_root])\n",
    "\n",
    "    def get_training_config(self) -> TrainingConfig:\n",
    "        training = self.config.training\n",
    "        prepare_base_model = self.config.prepare_base_model\n",
    "        params = self.params\n",
    "\n",
    "        training_data = os.path.join(\n",
    "            self.config.data_ingestion.unzip_dir,\n",
    "            \"Chicken-fecal-images\"\n",
    "        )\n",
    "\n",
    "        training_config = TrainingConfig(\n",
    "            root_dir=Path(training.root_dir),\n",
    "            trained_model_path=Path(training.trained_model_path), updated_model_path=Path(prepare_base_model.updated_model_path),\n",
    "            training_data=training_data,\n",
    "            params_epochs=params.EPOCHS,\n",
    "            params_batch_size=params.BATCH_SIZE,\n",
    "            params_image_size=params.IMAGE_SIZE,\n",
    "            params_is_augmentation=params.AUGMENTATION\n",
    "        )\n",
    "\n",
    "        return training_config"
   ]
  },
  {
   "cell_type": "markdown",
   "id": "5efd205d937daeb7",
   "metadata": {
    "collapsed": false
   },
   "source": [
    "### Update components"
   ]
  },
  {
   "cell_type": "code",
   "execution_count": 8,
   "id": "ffcca5874b5a6e4c",
   "metadata": {
    "collapsed": false
   },
   "outputs": [],
   "source": [
    "import tensorflow as tf\n",
    "\n",
    "\n",
    "class Training:\n",
    "    def __init__(self, config: TrainingConfig):\n",
    "        self.config = config\n",
    "\n",
    "    def get_base_model(self):\n",
    "        self.model = tf.keras.models.load_model(\n",
    "            self.config.updated_model_path\n",
    "        )\n",
    "\n",
    "    def prepare_data_for_training(self):\n",
    "        train_ds = tf.keras.utils.image_dataset_from_directory(\n",
    "            directory=self.config.training_data,\n",
    "            validation_split=0.2,\n",
    "            subset=\"training\",\n",
    "            seed=42,\n",
    "            batch_size=self.config.params_batch_size,\n",
    "            image_size=(\n",
    "                self.config.params_image_size[0], self.config.params_image_size[1])\n",
    "        )\n",
    "\n",
    "        val_ds = tf.keras.utils.image_dataset_from_directory(\n",
    "            directory=self.config.training_data,\n",
    "            validation_split=0.2,\n",
    "            subset=\"validation\",\n",
    "            seed=42,\n",
    "            batch_size=self.config.params_batch_size,\n",
    "            image_size=(self.config.params_image_size[0], self.config.params_image_size[1]))\n",
    "\n",
    "        self.train_ds = self.configure_for_performance(train_ds)\n",
    "        self.val_ds = self.configure_for_performance(val_ds)\n",
    "\n",
    "    def train(self):\n",
    "        self.model.fit(\n",
    "            self.train_ds,\n",
    "            epochs=self.config.params_epochs,\n",
    "            # batch_size=self.config.params_batch_size,\n",
    "            # steps_for_epoch=len(self.train_ds),\n",
    "            validation_data=self.val_ds,\n",
    "            # validation_steps=len(self.val_ds)\n",
    "        )\n",
    "\n",
    "        self.save_model(\n",
    "            path=self.config.trained_model_path,\n",
    "            model=self.model\n",
    "        )\n",
    "\n",
    "    def configure_for_performance(self, ds):\n",
    "        ds = ds.cache()\n",
    "        ds = ds.shuffle(buffer_size=1000)\n",
    "        # ds = ds.batch(self.config.params_batch_size)\n",
    "        ds = ds.prefetch(buffer_size=tf.data.AUTOTUNE)\n",
    "        return ds\n",
    "\n",
    "    @staticmethod\n",
    "    def save_model(path: Path, model: tf.keras.Model):\n",
    "        model.save(path)"
   ]
  },
  {
   "cell_type": "markdown",
   "id": "980508dc",
   "metadata": {},
   "source": [
    "### Update pipeline"
   ]
  },
  {
   "cell_type": "code",
   "execution_count": 9,
   "id": "1650086e",
   "metadata": {},
   "outputs": [
    {
     "name": "stdout",
     "output_type": "stream",
     "text": [
      "[2023-10-19 11:39:55,987:  INFO: common: yaml file: config\\config.yaml loaded]\n",
      "[2023-10-19 11:39:55,995:  INFO: common: yaml file: params.yaml loaded]\n",
      "[2023-10-19 11:39:56,000:  INFO: common: Created directory at artifacts]\n",
      "Found 390 files belonging to 2 classes.\n",
      "Using 312 files for training.\n",
      "Found 390 files belonging to 2 classes.\n",
      "Using 78 files for validation.\n"
     ]
    },
    {
     "ename": "ValueError",
     "evalue": "in user code:\n\n    File \"d:\\Documents\\Projects\\chiicken_disease_classification\\venv\\lib\\site-packages\\keras\\engine\\training.py\", line 1160, in train_function  *\n        return step_function(self, iterator)\n    File \"d:\\Documents\\Projects\\chiicken_disease_classification\\venv\\lib\\site-packages\\keras\\engine\\training.py\", line 1146, in step_function  **\n        outputs = model.distribute_strategy.run(run_step, args=(data,))\n    File \"d:\\Documents\\Projects\\chiicken_disease_classification\\venv\\lib\\site-packages\\keras\\engine\\training.py\", line 1135, in run_step  **\n        outputs = model.train_step(data)\n    File \"d:\\Documents\\Projects\\chiicken_disease_classification\\venv\\lib\\site-packages\\keras\\engine\\training.py\", line 994, in train_step\n        loss = self.compute_loss(x, y, y_pred, sample_weight)\n    File \"d:\\Documents\\Projects\\chiicken_disease_classification\\venv\\lib\\site-packages\\keras\\engine\\training.py\", line 1052, in compute_loss\n        return self.compiled_loss(\n    File \"d:\\Documents\\Projects\\chiicken_disease_classification\\venv\\lib\\site-packages\\keras\\engine\\compile_utils.py\", line 265, in __call__\n        loss_value = loss_obj(y_t, y_p, sample_weight=sw)\n    File \"d:\\Documents\\Projects\\chiicken_disease_classification\\venv\\lib\\site-packages\\keras\\losses.py\", line 152, in __call__\n        losses = call_fn(y_true, y_pred)\n    File \"d:\\Documents\\Projects\\chiicken_disease_classification\\venv\\lib\\site-packages\\keras\\losses.py\", line 272, in call  **\n        return ag_fn(y_true, y_pred, **self._fn_kwargs)\n    File \"d:\\Documents\\Projects\\chiicken_disease_classification\\venv\\lib\\site-packages\\keras\\losses.py\", line 1990, in categorical_crossentropy\n        return backend.categorical_crossentropy(\n    File \"d:\\Documents\\Projects\\chiicken_disease_classification\\venv\\lib\\site-packages\\keras\\backend.py\", line 5529, in categorical_crossentropy\n        target.shape.assert_is_compatible_with(output.shape)\n\n    ValueError: Shapes (None, 1) and (None, 2) are incompatible\n",
     "output_type": "error",
     "traceback": [
      "\u001b[1;31m---------------------------------------------------------------------------\u001b[0m",
      "\u001b[1;31mValueError\u001b[0m                                Traceback (most recent call last)",
      "\u001b[1;32md:\\Documents\\Projects\\chiicken_disease_classification\\research\\03_model_training.ipynb Cell 12\u001b[0m line \u001b[0;36m9\n\u001b[0;32m      <a href='vscode-notebook-cell:/d%3A/Documents/Projects/chiicken_disease_classification/research/03_model_training.ipynb#X14sZmlsZQ%3D%3D?line=6'>7</a>\u001b[0m     training\u001b[39m.\u001b[39mtrain()\n\u001b[0;32m      <a href='vscode-notebook-cell:/d%3A/Documents/Projects/chiicken_disease_classification/research/03_model_training.ipynb#X14sZmlsZQ%3D%3D?line=7'>8</a>\u001b[0m \u001b[39mexcept\u001b[39;00m \u001b[39mException\u001b[39;00m \u001b[39mas\u001b[39;00m e:\n\u001b[1;32m----> <a href='vscode-notebook-cell:/d%3A/Documents/Projects/chiicken_disease_classification/research/03_model_training.ipynb#X14sZmlsZQ%3D%3D?line=8'>9</a>\u001b[0m     \u001b[39mraise\u001b[39;00m e\n",
      "\u001b[1;32md:\\Documents\\Projects\\chiicken_disease_classification\\research\\03_model_training.ipynb Cell 12\u001b[0m line \u001b[0;36m7\n\u001b[0;32m      <a href='vscode-notebook-cell:/d%3A/Documents/Projects/chiicken_disease_classification/research/03_model_training.ipynb#X14sZmlsZQ%3D%3D?line=4'>5</a>\u001b[0m     training\u001b[39m.\u001b[39mget_base_model()\n\u001b[0;32m      <a href='vscode-notebook-cell:/d%3A/Documents/Projects/chiicken_disease_classification/research/03_model_training.ipynb#X14sZmlsZQ%3D%3D?line=5'>6</a>\u001b[0m     training\u001b[39m.\u001b[39mprepare_data_for_training()\n\u001b[1;32m----> <a href='vscode-notebook-cell:/d%3A/Documents/Projects/chiicken_disease_classification/research/03_model_training.ipynb#X14sZmlsZQ%3D%3D?line=6'>7</a>\u001b[0m     training\u001b[39m.\u001b[39;49mtrain()\n\u001b[0;32m      <a href='vscode-notebook-cell:/d%3A/Documents/Projects/chiicken_disease_classification/research/03_model_training.ipynb#X14sZmlsZQ%3D%3D?line=7'>8</a>\u001b[0m \u001b[39mexcept\u001b[39;00m \u001b[39mException\u001b[39;00m \u001b[39mas\u001b[39;00m e:\n\u001b[0;32m      <a href='vscode-notebook-cell:/d%3A/Documents/Projects/chiicken_disease_classification/research/03_model_training.ipynb#X14sZmlsZQ%3D%3D?line=8'>9</a>\u001b[0m     \u001b[39mraise\u001b[39;00m e\n",
      "\u001b[1;32md:\\Documents\\Projects\\chiicken_disease_classification\\research\\03_model_training.ipynb Cell 12\u001b[0m line \u001b[0;36m3\n\u001b[0;32m     <a href='vscode-notebook-cell:/d%3A/Documents/Projects/chiicken_disease_classification/research/03_model_training.ipynb#X14sZmlsZQ%3D%3D?line=34'>35</a>\u001b[0m \u001b[39mdef\u001b[39;00m \u001b[39mtrain\u001b[39m(\u001b[39mself\u001b[39m):\n\u001b[1;32m---> <a href='vscode-notebook-cell:/d%3A/Documents/Projects/chiicken_disease_classification/research/03_model_training.ipynb#X14sZmlsZQ%3D%3D?line=35'>36</a>\u001b[0m     \u001b[39mself\u001b[39;49m\u001b[39m.\u001b[39;49mmodel\u001b[39m.\u001b[39;49mfit(\n\u001b[0;32m     <a href='vscode-notebook-cell:/d%3A/Documents/Projects/chiicken_disease_classification/research/03_model_training.ipynb#X14sZmlsZQ%3D%3D?line=36'>37</a>\u001b[0m         \u001b[39mself\u001b[39;49m\u001b[39m.\u001b[39;49mtrain_ds,\n\u001b[0;32m     <a href='vscode-notebook-cell:/d%3A/Documents/Projects/chiicken_disease_classification/research/03_model_training.ipynb#X14sZmlsZQ%3D%3D?line=37'>38</a>\u001b[0m         epochs\u001b[39m=\u001b[39;49m\u001b[39mself\u001b[39;49m\u001b[39m.\u001b[39;49mconfig\u001b[39m.\u001b[39;49mparams_epochs,\n\u001b[0;32m     <a href='vscode-notebook-cell:/d%3A/Documents/Projects/chiicken_disease_classification/research/03_model_training.ipynb#X14sZmlsZQ%3D%3D?line=38'>39</a>\u001b[0m         \u001b[39m# batch_size=self.config.params_batch_size,\u001b[39;49;00m\n\u001b[0;32m     <a href='vscode-notebook-cell:/d%3A/Documents/Projects/chiicken_disease_classification/research/03_model_training.ipynb#X14sZmlsZQ%3D%3D?line=39'>40</a>\u001b[0m         \u001b[39m# steps_for_epoch=len(self.train_ds),\u001b[39;49;00m\n\u001b[0;32m     <a href='vscode-notebook-cell:/d%3A/Documents/Projects/chiicken_disease_classification/research/03_model_training.ipynb#X14sZmlsZQ%3D%3D?line=40'>41</a>\u001b[0m         validation_data\u001b[39m=\u001b[39;49m\u001b[39mself\u001b[39;49m\u001b[39m.\u001b[39;49mval_ds,\n\u001b[0;32m     <a href='vscode-notebook-cell:/d%3A/Documents/Projects/chiicken_disease_classification/research/03_model_training.ipynb#X14sZmlsZQ%3D%3D?line=41'>42</a>\u001b[0m         \u001b[39m# validation_steps=len(self.val_ds)\u001b[39;49;00m\n\u001b[0;32m     <a href='vscode-notebook-cell:/d%3A/Documents/Projects/chiicken_disease_classification/research/03_model_training.ipynb#X14sZmlsZQ%3D%3D?line=42'>43</a>\u001b[0m     )\n\u001b[0;32m     <a href='vscode-notebook-cell:/d%3A/Documents/Projects/chiicken_disease_classification/research/03_model_training.ipynb#X14sZmlsZQ%3D%3D?line=44'>45</a>\u001b[0m     \u001b[39mself\u001b[39m\u001b[39m.\u001b[39msave_model(\n\u001b[0;32m     <a href='vscode-notebook-cell:/d%3A/Documents/Projects/chiicken_disease_classification/research/03_model_training.ipynb#X14sZmlsZQ%3D%3D?line=45'>46</a>\u001b[0m         path\u001b[39m=\u001b[39m\u001b[39mself\u001b[39m\u001b[39m.\u001b[39mconfig\u001b[39m.\u001b[39mtrained_model_path,\n\u001b[0;32m     <a href='vscode-notebook-cell:/d%3A/Documents/Projects/chiicken_disease_classification/research/03_model_training.ipynb#X14sZmlsZQ%3D%3D?line=46'>47</a>\u001b[0m         model\u001b[39m=\u001b[39m\u001b[39mself\u001b[39m\u001b[39m.\u001b[39mmodel\n\u001b[0;32m     <a href='vscode-notebook-cell:/d%3A/Documents/Projects/chiicken_disease_classification/research/03_model_training.ipynb#X14sZmlsZQ%3D%3D?line=47'>48</a>\u001b[0m     )\n",
      "File \u001b[1;32md:\\Documents\\Projects\\chiicken_disease_classification\\venv\\lib\\site-packages\\keras\\utils\\traceback_utils.py:70\u001b[0m, in \u001b[0;36mfilter_traceback.<locals>.error_handler\u001b[1;34m(*args, **kwargs)\u001b[0m\n\u001b[0;32m     67\u001b[0m     filtered_tb \u001b[39m=\u001b[39m _process_traceback_frames(e\u001b[39m.\u001b[39m__traceback__)\n\u001b[0;32m     68\u001b[0m     \u001b[39m# To get the full stack trace, call:\u001b[39;00m\n\u001b[0;32m     69\u001b[0m     \u001b[39m# `tf.debugging.disable_traceback_filtering()`\u001b[39;00m\n\u001b[1;32m---> 70\u001b[0m     \u001b[39mraise\u001b[39;00m e\u001b[39m.\u001b[39mwith_traceback(filtered_tb) \u001b[39mfrom\u001b[39;00m \u001b[39mNone\u001b[39;00m\n\u001b[0;32m     71\u001b[0m \u001b[39mfinally\u001b[39;00m:\n\u001b[0;32m     72\u001b[0m     \u001b[39mdel\u001b[39;00m filtered_tb\n",
      "File \u001b[1;32m~\\AppData\\Local\\Temp\\__autograph_generated_file5y4h0vda.py:15\u001b[0m, in \u001b[0;36mouter_factory.<locals>.inner_factory.<locals>.tf__train_function\u001b[1;34m(iterator)\u001b[0m\n\u001b[0;32m     13\u001b[0m \u001b[39mtry\u001b[39;00m:\n\u001b[0;32m     14\u001b[0m     do_return \u001b[39m=\u001b[39m \u001b[39mTrue\u001b[39;00m\n\u001b[1;32m---> 15\u001b[0m     retval_ \u001b[39m=\u001b[39m ag__\u001b[39m.\u001b[39mconverted_call(ag__\u001b[39m.\u001b[39mld(step_function), (ag__\u001b[39m.\u001b[39mld(\u001b[39mself\u001b[39m), ag__\u001b[39m.\u001b[39mld(iterator)), \u001b[39mNone\u001b[39;00m, fscope)\n\u001b[0;32m     16\u001b[0m \u001b[39mexcept\u001b[39;00m:\n\u001b[0;32m     17\u001b[0m     do_return \u001b[39m=\u001b[39m \u001b[39mFalse\u001b[39;00m\n",
      "\u001b[1;31mValueError\u001b[0m: in user code:\n\n    File \"d:\\Documents\\Projects\\chiicken_disease_classification\\venv\\lib\\site-packages\\keras\\engine\\training.py\", line 1160, in train_function  *\n        return step_function(self, iterator)\n    File \"d:\\Documents\\Projects\\chiicken_disease_classification\\venv\\lib\\site-packages\\keras\\engine\\training.py\", line 1146, in step_function  **\n        outputs = model.distribute_strategy.run(run_step, args=(data,))\n    File \"d:\\Documents\\Projects\\chiicken_disease_classification\\venv\\lib\\site-packages\\keras\\engine\\training.py\", line 1135, in run_step  **\n        outputs = model.train_step(data)\n    File \"d:\\Documents\\Projects\\chiicken_disease_classification\\venv\\lib\\site-packages\\keras\\engine\\training.py\", line 994, in train_step\n        loss = self.compute_loss(x, y, y_pred, sample_weight)\n    File \"d:\\Documents\\Projects\\chiicken_disease_classification\\venv\\lib\\site-packages\\keras\\engine\\training.py\", line 1052, in compute_loss\n        return self.compiled_loss(\n    File \"d:\\Documents\\Projects\\chiicken_disease_classification\\venv\\lib\\site-packages\\keras\\engine\\compile_utils.py\", line 265, in __call__\n        loss_value = loss_obj(y_t, y_p, sample_weight=sw)\n    File \"d:\\Documents\\Projects\\chiicken_disease_classification\\venv\\lib\\site-packages\\keras\\losses.py\", line 152, in __call__\n        losses = call_fn(y_true, y_pred)\n    File \"d:\\Documents\\Projects\\chiicken_disease_classification\\venv\\lib\\site-packages\\keras\\losses.py\", line 272, in call  **\n        return ag_fn(y_true, y_pred, **self._fn_kwargs)\n    File \"d:\\Documents\\Projects\\chiicken_disease_classification\\venv\\lib\\site-packages\\keras\\losses.py\", line 1990, in categorical_crossentropy\n        return backend.categorical_crossentropy(\n    File \"d:\\Documents\\Projects\\chiicken_disease_classification\\venv\\lib\\site-packages\\keras\\backend.py\", line 5529, in categorical_crossentropy\n        target.shape.assert_is_compatible_with(output.shape)\n\n    ValueError: Shapes (None, 1) and (None, 2) are incompatible\n"
     ]
    }
   ],
   "source": [
    "try:\n",
    "    config = ConfigurationManager()\n",
    "    training_config = config.get_training_config()\n",
    "    training = Training(config=training_config)\n",
    "    training.get_base_model()\n",
    "    training.prepare_data_for_training()\n",
    "    training.train()\n",
    "except Exception as e:\n",
    "    raise e"
   ]
  },
  {
   "cell_type": "code",
   "execution_count": null,
   "id": "b13dba64",
   "metadata": {},
   "outputs": [],
   "source": []
  }
 ],
 "metadata": {
  "kernelspec": {
   "display_name": "Python 3",
   "language": "python",
   "name": "python3"
  },
  "language_info": {
   "codemirror_mode": {
    "name": "ipython",
    "version": 3
   },
   "file_extension": ".py",
   "mimetype": "text/x-python",
   "name": "python",
   "nbconvert_exporter": "python",
   "pygments_lexer": "ipython3",
   "version": "3.10.0"
  }
 },
 "nbformat": 4,
 "nbformat_minor": 5
}
